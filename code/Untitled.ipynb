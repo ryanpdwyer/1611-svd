{
 "cells": [
  {
   "cell_type": "code",
   "execution_count": 1,
   "metadata": {
    "collapsed": false
   },
   "outputs": [
    {
     "name": "stderr",
     "output_type": "stream",
     "text": [
      "WARNING: Base.writemime is deprecated.\n",
      "  likely near /Users/ryandwyer/.julia/v0.5/IJulia/src/kernel.jl:31\n",
      "WARNING: Base.writemime is deprecated.\n",
      "  likely near /Users/ryandwyer/.julia/v0.5/IJulia/src/kernel.jl:31\n",
      "WARNING: Base.writemime is deprecated.\n",
      "  likely near /Users/ryandwyer/.julia/v0.5/IJulia/src/kernel.jl:31\n",
      "WARNING: Base.writemime is deprecated.\n",
      "  likely near /Users/ryandwyer/.julia/v0.5/IJulia/src/kernel.jl:31\n",
      "\n",
      "WARNING: deprecated syntax \"(AbstractString=>Any)[a=>b for (a,b) in c]\" at /Users/ryandwyer/.julia/v0.5/PyCall/src/PyCall.jl:359.\n",
      "Use \"Dict{AbstractString,Any}(a=>b for (a,b) in c)\" instead.\n",
      "WARNING: bytestring(s::AbstractString...) is deprecated, use string(s...) instead.\n",
      " in depwarn(::String, ::Symbol) at ./deprecated.jl:64\n",
      " in bytestring(::String) at ./deprecated.jl:50\n",
      " in include_from_node1(::String) at ./loading.jl:426 (repeats 2 times)\n",
      " in eval(::Module, ::Any) at ./boot.jl:234\n",
      " in require(::Symbol) at ./loading.jl:357\n",
      " in include_string(::String, ::String) at ./loading.jl:380\n",
      " in execute_request_0x535c5df2(::ZMQ.Socket, ::IJulia.Msg) at /Users/ryandwyer/.julia/v0.5/IJulia/src/execute_request.jl:183\n",
      " in eventloop(::ZMQ.Socket) at /Users/ryandwyer/.julia/v0.5/IJulia/src/IJulia.jl:143\n",
      " in (::IJulia.##24#30)() at ./task.jl:315\n",
      "while loading /Users/ryandwyer/.julia/v0.5/PyCall/src/../deps/deps.jl, in expression starting on line 3\n",
      "WARNING: bytestring(s::AbstractString...) is deprecated, use string(s...) instead.\n",
      " in depwarn(::String, ::Symbol) at ./deprecated.jl:64\n",
      " in bytestring(::String) at ./deprecated.jl:50\n",
      " in include_from_node1(::String) at ./loading.jl:426 (repeats 2 times)\n",
      " in eval(::Module, ::Any) at ./boot.jl:234\n",
      " in require(::Symbol) at ./loading.jl:357\n",
      " in include_string(::String, ::String) at ./loading.jl:380\n",
      " in execute_request_0x535c5df2(::ZMQ.Socket, ::IJulia.Msg) at /Users/ryandwyer/.julia/v0.5/IJulia/src/execute_request.jl:183\n",
      " in eventloop(::ZMQ.Socket) at /Users/ryandwyer/.julia/v0.5/IJulia/src/IJulia.jl:143\n",
      " in (::IJulia.##24#30)() at ./task.jl:315\n",
      "while loading /Users/ryandwyer/.julia/v0.5/PyCall/src/../deps/deps.jl, in expression starting on line 5\n",
      "WARNING: Base.WORD_SIZE is deprecated.\n",
      "  likely near /Users/ryandwyer/.julia/v0.5/PyCall/src/conversions.jl:34\n",
      "WARNING: Base.UTF8String is deprecated, use String instead.\n",
      "  likely near /Users/ryandwyer/.julia/v0.5/PyCall/src/conversions.jl:61\n",
      "WARNING: Base.WORD_SIZE is deprecated.\n",
      "  likely near /Users/ryandwyer/.julia/v0.5/PyCall/src/numpy.jl:166\n",
      "WARNING: symbol is deprecated, use Symbol instead.\n",
      " in depwarn(::String, ::Symbol) at ./deprecated.jl:64\n",
      " in symbol(::String, ::Vararg{String,N}) at ./deprecated.jl:30\n",
      " in macro expansion; at /Users/ryandwyer/.julia/v0.5/PyCall/src/pydates.jl:106 [inlined]\n",
      " in anonymous at ./<missing>:?\n",
      " in include_from_node1(::String) at ./loading.jl:426 (repeats 3 times)\n",
      " in eval(::Module, ::Any) at ./boot.jl:234\n",
      " in require(::Symbol) at ./loading.jl:357\n",
      " in include_string(::String, ::String) at ./loading.jl:380\n",
      " in execute_request_0x535c5df2(::ZMQ.Socket, ::IJulia.Msg) at /Users/ryandwyer/.julia/v0.5/IJulia/src/execute_request.jl:183\n",
      " in eventloop(::ZMQ.Socket) at /Users/ryandwyer/.julia/v0.5/IJulia/src/IJulia.jl:143\n",
      " in (::IJulia.##24#30)() at ./task.jl:315\n",
      "while loading /Users/ryandwyer/.julia/v0.5/PyCall/src/pydates.jl, in expression starting on line 105\n",
      "WARNING: symbol is deprecated, use Symbol instead.\n",
      " in depwarn(::String, ::Symbol) at ./deprecated.jl:64\n",
      " in symbol(::String, ::Vararg{String,N}) at ./deprecated.jl:30\n",
      " in macro expansion; at /Users/ryandwyer/.julia/v0.5/PyCall/src/pydates.jl:107 [inlined]\n",
      " in anonymous at ./<missing>:?\n",
      " in include_from_node1(::String) at ./loading.jl:426 (repeats 3 times)\n",
      " in eval(::Module, ::Any) at ./boot.jl:234\n",
      " in require(::Symbol) at ./loading.jl:357\n",
      " in include_string(::String, ::String) at ./loading.jl:380\n",
      " in execute_request_0x535c5df2(::ZMQ.Socket, ::IJulia.Msg) at /Users/ryandwyer/.julia/v0.5/IJulia/src/execute_request.jl:183\n",
      " in eventloop(::ZMQ.Socket) at /Users/ryandwyer/.julia/v0.5/IJulia/src/IJulia.jl:143\n",
      " in (::IJulia.##24#30)() at ./task.jl:315\n",
      "while loading /Users/ryandwyer/.julia/v0.5/PyCall/src/pydates.jl, in expression starting on line 105\n",
      "WARNING: Base.ASCIIString is deprecated, use String instead.\n",
      "  likely near /Users/ryandwyer/.julia/v0.5/PyCall/src/pytype.jl:175\n",
      "WARNING: Base.ASCIIString is deprecated, use String instead.\n",
      "  likely near /Users/ryandwyer/.julia/v0.5/PyCall/src/PyCall.jl:265\n",
      "\n",
      "WARNING: deprecated syntax \"call(o::PyObject, ...)\".\n",
      "Use \"(o::PyObject)(...)\" instead.\n",
      "\n",
      "WARNING: deprecated syntax \"call(::Core.kwftype(PyObject), ...)\".\n",
      "Use \"(::Core.kwftype(PyObject))(...)\" instead.\n",
      "\n",
      "WARNING: deprecated syntax \"call(::Type{PyAny}, ...)\".\n",
      "Use \"(::Type{PyAny})(...)\" instead.\n",
      "WARNING: Base.writemime is deprecated.\n",
      "  likely near /Users/ryandwyer/.julia/v0.5/PyCall/src/PyCall.jl:497\n",
      "WARNING: Base.writemime is deprecated.\n",
      "  likely near /Users/ryandwyer/.julia/v0.5/PyCall/src/PyCall.jl:497\n",
      "WARNING: Base.writemime is deprecated.\n",
      "  likely near /Users/ryandwyer/.julia/v0.5/PyCall/src/PyCall.jl:497\n",
      "WARNING: Base.writemime is deprecated.\n",
      "  likely near /Users/ryandwyer/.julia/v0.5/PyCall/src/PyCall.jl:497\n",
      "WARNING: Base.writemime is deprecated.\n",
      "  likely near /Users/ryandwyer/.julia/v0.5/PyCall/src/PyCall.jl:497\n",
      "WARNING: Base.ASCIIString is deprecated, use String instead.\n",
      "  likely near /Users/ryandwyer/.julia/v0.5/PyCall/src/PyCall.jl:541\n",
      "WARNING: Base.ASCIIString is deprecated, use String instead.\n",
      "  likely near /Users/ryandwyer/.julia/v0.5/PyCall/src/PyCall.jl:541\n",
      "WARNING: Base.ASCIIString is deprecated, use String instead.\n",
      "  likely near /Users/ryandwyer/.julia/v0.5/PyCall/src/PyCall.jl:541\n",
      "WARNING: Base.ASCIIString is deprecated, use String instead.\n",
      "  likely near /Users/ryandwyer/.julia/v0.5/PyCall/src/PyCall.jl:541\n",
      "WARNING: Base.ASCIIString is deprecated, use String instead.\n",
      "  likely near /Users/ryandwyer/.julia/v0.5/PyCall/src/PyCall.jl:541\n",
      "WARNING: Base.ASCIIString is deprecated, use String instead.\n",
      "  likely near /Users/ryandwyer/.julia/v0.5/PyCall/src/PyCall.jl:541\n",
      "WARNING: Base.ASCIIString is deprecated, use String instead.\n",
      "  likely near /Users/ryandwyer/.julia/v0.5/PyCall/src/PyCall.jl:541\n",
      "WARNING: Base.ASCIIString is deprecated, use String instead.\n",
      "  likely near /Users/ryandwyer/.julia/v0.5/PyCall/src/PyCall.jl:541\n",
      "WARNING: Base.UTF8String is deprecated, use String instead.\n",
      "  likely near /Users/ryandwyer/.julia/v0.5/PyCall/src/PyCall.jl:541\n",
      "WARNING: bytestring(p::Union{Ptr{Int8},Ptr{UInt8}}) is deprecated, use unsafe_string(p) instead.\n",
      " in depwarn(::String, ::Symbol) at ./deprecated.jl:64\n",
      " in bytestring(::Ptr{UInt8}) at ./deprecated.jl:50\n",
      " in __init__() at /Users/ryandwyer/.julia/v0.5/PyCall/src/pyinit.jl:44\n",
      " in include_from_node1(::String) at ./loading.jl:426\n",
      " in eval(::Module, ::Any) at ./boot.jl:234\n",
      " in require(::Symbol) at ./loading.jl:357\n",
      " in include_string(::String, ::String) at ./loading.jl:380\n",
      " in execute_request_0x535c5df2(::ZMQ.Socket, ::IJulia.Msg) at /Users/ryandwyer/.julia/v0.5/IJulia/src/execute_request.jl:183\n",
      " in eventloop(::ZMQ.Socket) at /Users/ryandwyer/.julia/v0.5/IJulia/src/IJulia.jl:143\n",
      " in (::IJulia.##24#30)() at ./task.jl:315\n",
      "while loading /Users/ryandwyer/.julia/v0.5/PyCall/src/PyCall.jl, in expression starting on line 541\n",
      "WARNING: bytestring(s::AbstractString...) is deprecated, use string(s...) instead.\n",
      " in depwarn(::String, ::Symbol) at ./deprecated.jl:64\n",
      " in bytestring(::String) at ./deprecated.jl:50\n",
      " in gstring_ptr(::String, ::String) at /Users/ryandwyer/.julia/v0.5/PyCall/src/pytype.jl:8\n",
      " in PyCall.PyMethodDef(::String, ::Function, ::UInt16, ::String) at /Users/ryandwyer/.julia/v0.5/PyCall/src/pytype.jl:43\n",
      " in make_io_methods(::Bool) at /Users/ryandwyer/.julia/v0.5/PyCall/src/io.jl:306\n",
      " in __init__() at /Users/ryandwyer/.julia/v0.5/PyCall/src/pyinit.jl:91\n",
      " in include_from_node1(::String) at ./loading.jl:426\n",
      " in eval(::Module, ::Any) at ./boot.jl:234\n",
      " in require(::Symbol) at ./loading.jl:357\n",
      " in include_string(::String, ::String) at ./loading.jl:380\n",
      " in execute_request_0x535c5df2(::ZMQ.Socket, ::IJulia.Msg) at /Users/ryandwyer/.julia/v0.5/IJulia/src/execute_request.jl:183\n",
      " in eventloop(::ZMQ.Socket) at /Users/ryandwyer/.julia/v0.5/IJulia/src/IJulia.jl:143\n",
      " in (::IJulia.##24#30)() at ./task.jl:315\n",
      "while loading /Users/ryandwyer/.julia/v0.5/PyCall/src/PyCall.jl, in expression starting on line 541\n"
     ]
    },
    {
     "ename": "LoadError",
     "evalue": "LoadError: LoadError: InitError: MethodError: no method matching |(::UInt32, ::Void)\nClosest candidates are:\n  |(::Any, ::Any, !Matched::Any, !Matched::Any...)\n  |{T<:Union{Int128,Int16,Int32,Int64,Int8,UInt128,UInt16,UInt32,UInt64,UInt8}}(::T<:Union{Int128,Int16,Int32,Int64,Int8,UInt128,UInt16,UInt32,UInt64,UInt8}, !Matched::T<:Union{Int128,Int16,Int32,Int64,Int8,UInt128,UInt16,UInt32,UInt64,UInt8})\n  |(::Integer)\n  ...\nduring initialization of module PyCall\nwhile loading /Users/ryandwyer/.julia/v0.5/PyCall/src/PyCall.jl, in expression starting on line 541\nwhile loading In[1], in expression starting on line 1",
     "output_type": "error",
     "traceback": [
      "LoadError: LoadError: InitError: MethodError: no method matching |(::UInt32, ::Void)\nClosest candidates are:\n  |(::Any, ::Any, !Matched::Any, !Matched::Any...)\n  |{T<:Union{Int128,Int16,Int32,Int64,Int8,UInt128,UInt16,UInt32,UInt64,UInt8}}(::T<:Union{Int128,Int16,Int32,Int64,Int8,UInt128,UInt16,UInt32,UInt64,UInt8}, !Matched::T<:Union{Int128,Int16,Int32,Int64,Int8,UInt128,UInt16,UInt32,UInt64,UInt8})\n  |(::Integer)\n  ...\nduring initialization of module PyCall\nwhile loading /Users/ryandwyer/.julia/v0.5/PyCall/src/PyCall.jl, in expression starting on line 541\nwhile loading In[1], in expression starting on line 1",
      "",
      " in PyCall.PyTypeObject(::String, ::Int64, ::PyCall.##20#21) at /Users/ryandwyer/.julia/v0.5/PyCall/src/pytype.jl:265",
      " in pyjlwrap_init() at /Users/ryandwyer/.julia/v0.5/PyCall/src/pytype.jl:385",
      " in __init__() at /Users/ryandwyer/.julia/v0.5/PyCall/src/pyinit.jl:107",
      " in include_from_node1(::String) at ./loading.jl:426",
      " in eval(::Module, ::Any) at ./boot.jl:234",
      " in require(::Symbol) at ./loading.jl:357",
      " in include_string(::String, ::String) at ./loading.jl:380",
      " in eventloop(::ZMQ.Socket) at /Users/ryandwyer/.julia/v0.5/IJulia/src/IJulia.jl:143",
      " in (::IJulia.##24#30)() at ./task.jl:315"
     ]
    },
    {
     "name": "stderr",
     "output_type": "stream",
     "text": [
      "WARNING: utf8(s::AbstractString) is deprecated, use String(s) instead.\n",
      " in depwarn(::String, ::Symbol) at ./deprecated.jl:64\n",
      " in utf8(::SubString{String}) at ./deprecated.jl:50\n",
      " in _collect(::Array{SubString{String},1}, ::Base.Generator{Array{SubString{String},1},Base.#utf8}, ::Base.EltypeUnknown, ::Base.HasShape) at ./array.jl:251\n",
      " in #error_content#12(::Symbol, ::String, ::Function, ::LoadError, ::Array{Ptr{Void},1}) at /Users/ryandwyer/.julia/v0.5/IJulia/src/execute_request.jl:75\n",
      " in execute_request_0x535c5df2(::ZMQ.Socket, ::IJulia.Msg) at /Users/ryandwyer/.julia/v0.5/IJulia/src/execute_request.jl:238\n",
      " in eventloop(::ZMQ.Socket) at /Users/ryandwyer/.julia/v0.5/IJulia/src/IJulia.jl:143\n",
      " in (::IJulia.##24#30)() at ./task.jl:315\n",
      "while loading /Users/ryandwyer/.julia/v0.5/IJulia/src/kernel.jl, in expression starting on line 31\n",
      "WARNING: utf8(s::AbstractString) is deprecated, use String(s) instead.\n",
      " in depwarn(::String, ::Symbol) at ./deprecated.jl:64\n",
      " in utf8(::SubString{String}) at ./deprecated.jl:50\n",
      " in collect_to!(::Array{String,1}, ::Base.Generator{Array{SubString{String},1},Base.#utf8}, ::Int64, ::Int64) at ./array.jl:270\n",
      " in _collect(::Array{SubString{String},1}, ::Base.Generator{Array{SubString{String},1},Base.#utf8}, ::Base.EltypeUnknown, ::Base.HasShape) at ./array.jl:252\n",
      " in #error_content#12(::Symbol, ::String, ::Function, ::LoadError, ::Array{Ptr{Void},1}) at /Users/ryandwyer/.julia/v0.5/IJulia/src/execute_request.jl:75\n",
      " in execute_request_0x535c5df2(::ZMQ.Socket, ::IJulia.Msg) at /Users/ryandwyer/.julia/v0.5/IJulia/src/execute_request.jl:238\n",
      " in eventloop(::ZMQ.Socket) at /Users/ryandwyer/.julia/v0.5/IJulia/src/IJulia.jl:143\n",
      " in (::IJulia.##24#30)() at ./task.jl:315\n",
      "while loading /Users/ryandwyer/.julia/v0.5/IJulia/src/kernel.jl, in expression starting on line 31\n"
     ]
    }
   ],
   "source": [
    "using PyCall\n",
    "using PyPlot"
   ]
  },
  {
   "cell_type": "code",
   "execution_count": 33,
   "metadata": {
    "collapsed": false
   },
   "outputs": [
    {
     "data": {
      "text/plain": [
       "2×2 Array{Float64,2}:\n",
       "   0.0      1.0     \n",
       " -39.4784  -0.020944"
      ]
     },
     "execution_count": 33,
     "metadata": {},
     "output_type": "execute_result"
    }
   ],
   "source": [
    "omega0 = 1.0*2*pi\n",
    "Q = 300.0\n",
    "omega_r = omega0 / Q\n",
    "A   = [0.0 1.0\n",
    "    -omega0^2 -omega_r]"
   ]
  },
  {
   "cell_type": "code",
   "execution_count": 34,
   "metadata": {
    "collapsed": false
   },
   "outputs": [
    {
     "data": {
      "text/plain": [
       "(\n",
       "2×2 Array{Float64,2}:\n",
       " -1.34468e-5  1.0       \n",
       "  1.0         1.34468e-5,\n",
       "\n",
       "[39.4784,1.0],\n",
       "2×2 Array{Float64,2}:\n",
       " -1.0          -0.000530857\n",
       " -0.000530857   1.0        )"
      ]
     },
     "execution_count": 34,
     "metadata": {},
     "output_type": "execute_result"
    }
   ],
   "source": [
    "svd(A)"
   ]
  },
  {
   "cell_type": "code",
   "execution_count": 35,
   "metadata": {
    "collapsed": false
   },
   "outputs": [
    {
     "data": {
      "text/plain": [
       "(Complex{Float64}[-0.010472+6.28318im,-0.010472-6.28318im],\n",
       "2×2 Array{Complex{Float64},2}:\n",
       " -0.000261961-0.157177im  -0.000261961+0.157177im\n",
       "      0.98757+0.0im            0.98757-0.0im     )"
      ]
     },
     "execution_count": 35,
     "metadata": {},
     "output_type": "execute_result"
    }
   ],
   "source": [
    "eigv, eigval= eig(A)"
   ]
  },
  {
   "cell_type": "code",
   "execution_count": 36,
   "metadata": {
    "collapsed": false
   },
   "outputs": [
    {
     "data": {
      "text/plain": [
       "2×2 Array{Float64,2}:\n",
       " 0.900577     -1.2508e-5\n",
       " 0.000493798   0.900577 "
      ]
     },
     "execution_count": 36,
     "metadata": {},
     "output_type": "execute_result"
    }
   ],
   "source": [
    "expm(A*10.0)"
   ]
  },
  {
   "cell_type": "code",
   "execution_count": 37,
   "metadata": {
    "collapsed": false
   },
   "outputs": [
    {
     "data": {
      "text/plain": [
       "2×2 Array{Float64,2}:\n",
       " 0.979274    -2.72021e-6\n",
       " 0.00010739   0.979274  "
      ]
     },
     "execution_count": 37,
     "metadata": {},
     "output_type": "execute_result"
    }
   ],
   "source": [
    "expm(A*2.0)"
   ]
  },
  {
   "cell_type": "code",
   "execution_count": 38,
   "metadata": {
    "collapsed": false
   },
   "outputs": [
    {
     "data": {
      "text/plain": [
       "2×2 Array{Complex{Float64},2}:\n",
       " 0.900577+2.1684e-19im   -1.2508e-5+0.0im\n",
       "      0.000493798+0.0im    0.900577+0.0im"
      ]
     },
     "execution_count": 38,
     "metadata": {},
     "output_type": "execute_result"
    }
   ],
   "source": [
    "eigval * Diagonal(exp(eigv*10.0)) * inv(eigval)"
   ]
  },
  {
   "cell_type": "code",
   "execution_count": 39,
   "metadata": {
    "collapsed": false
   },
   "outputs": [
    {
     "data": {
      "text/plain": [
       "2001-element Array{Float64,1}:\n",
       " -10.0 \n",
       "  -9.99\n",
       "  -9.98\n",
       "  -9.97\n",
       "  -9.96\n",
       "  -9.95\n",
       "  -9.94\n",
       "  -9.93\n",
       "  -9.92\n",
       "  -9.91\n",
       "  -9.9 \n",
       "  -9.89\n",
       "  -9.88\n",
       "   ⋮   \n",
       "   9.89\n",
       "   9.9 \n",
       "   9.91\n",
       "   9.92\n",
       "   9.93\n",
       "   9.94\n",
       "   9.95\n",
       "   9.96\n",
       "   9.97\n",
       "   9.98\n",
       "   9.99\n",
       "  10.0 "
      ]
     },
     "execution_count": 39,
     "metadata": {},
     "output_type": "execute_result"
    }
   ],
   "source": [
    "x = collect(-10:0.01:10)"
   ]
  },
  {
   "cell_type": "code",
   "execution_count": 40,
   "metadata": {
    "collapsed": false
   },
   "outputs": [
    {
     "name": "stderr",
     "output_type": "stream",
     "text": [
      "WARNING: Method definition k1d(Any) in module Main at In[12]:1 overwritten at In[40]:1.\n",
      "WARNING: Method definition k1d(Any, Any) in module Main at In[12]:1 overwritten at In[40]:1.\n"
     ]
    },
    {
     "data": {
      "text/plain": [
       "k1d (generic function with 2 methods)"
      ]
     },
     "execution_count": 40,
     "metadata": {},
     "output_type": "execute_result"
    }
   ],
   "source": [
    "k1d(x, sigma=1.0) = x^2 * exp(-x^2/(2*sigma^2))"
   ]
  },
  {
   "cell_type": "code",
   "execution_count": 41,
   "metadata": {
    "collapsed": false
   },
   "outputs": [],
   "source": []
  },
  {
   "cell_type": "code",
   "execution_count": 43,
   "metadata": {
    "collapsed": true
   },
   "outputs": [],
   "source": [
    "x2 = -5:0.01:5\n",
    "y2 = k1d.(x2, 1.0);"
   ]
  },
  {
   "cell_type": "code",
   "execution_count": 42,
   "metadata": {
    "collapsed": false
   },
   "outputs": [
    {
     "data": {
      "image/png": "[encoded data removed]",
      "text/plain": [
       "PyPlot.Figure(PyObject <matplotlib.figure.Figure object at 0x3227d1850>)"
      ]
     },
     "metadata": {},
     "output_type": "display_data"
    },
    {
     "data": {
      "text/plain": [
       "1-element Array{Any,1}:\n",
       " PyObject <matplotlib.lines.Line2D object at 0x326729bd0>"
      ]
     },
     "execution_count": 42,
     "metadata": {},
     "output_type": "execute_result"
    }
   ],
   "source": [
    "plot(x, y)"
   ]
  },
  {
   "cell_type": "code",
   "execution_count": 96,
   "metadata": {
    "collapsed": false
   },
   "outputs": [
    {
     "data": {
      "text/plain": [
       "9-element Array{Float64,1}:\n",
       " 9.31663e-5\n",
       " 0.0124288 \n",
       " 0.274606  \n",
       " 0.715365  \n",
       " 0.0       \n",
       " 0.715365  \n",
       " 0.274606  \n",
       " 0.0124288 \n",
       " 9.31663e-5"
      ]
     },
     "execution_count": 96,
     "metadata": {},
     "output_type": "execute_result"
    }
   ],
   "source": [
    "x3 = -5:1.25:5\n",
    "h = y3 = k1d.(x3, 1.0)"
   ]
  },
  {
   "cell_type": "code",
   "execution_count": 55,
   "metadata": {
    "collapsed": false
   },
   "outputs": [
    {
     "data": {
      "image/png": "[encoded data removed]",
      "text/plain": [
       "PyPlot.Figure(PyObject <matplotlib.figure.Figure object at 0x327231f50>)"
      ]
     },
     "metadata": {},
     "output_type": "display_data"
    },
    {
     "data": {
      "text/plain": [
       "(-5,5)"
      ]
     },
     "execution_count": 55,
     "metadata": {},
     "output_type": "execute_result"
    }
   ],
   "source": [
    "plot(x2, y2)\n",
    "plot(x3, y3)\n",
    "xlim(-5, 5)"
   ]
  },
  {
   "cell_type": "code",
   "execution_count": 81,
   "metadata": {
    "collapsed": false
   },
   "outputs": [
    {
     "data": {
      "text/plain": [
       "norm (generic function with 1 method)"
      ]
     },
     "execution_count": 81,
     "metadata": {},
     "output_type": "execute_result"
    }
   ],
   "source": [
    "norm(loc, sigma) = (x) -> exp(-(x-loc)^2/(2*sigma^2))"
   ]
  },
  {
   "cell_type": "code",
   "execution_count": 91,
   "metadata": {
    "collapsed": false
   },
   "outputs": [
    {
     "data": {
      "text/plain": [
       "actualval (generic function with 1 method)"
      ]
     },
     "execution_count": 91,
     "metadata": {},
     "output_type": "execute_result"
    }
   ],
   "source": [
    "actualval(x) = 0.75*norm(3.5, 2.0)(x) + 1.25*norm(-1.0, 1.0)(x) + 0.5*norm(-6.0, 0.75)(x) + norm(8.0, 0.25)(x)"
   ]
  },
  {
   "cell_type": "code",
   "execution_count": 94,
   "metadata": {
    "collapsed": false
   },
   "outputs": [
    {
     "data": {
      "text/plain": [
       "2001-element Array{Float64,1}:\n",
       " 3.33014e-7\n",
       " 3.57522e-7\n",
       " 3.83765e-7\n",
       " 4.11861e-7\n",
       " 4.41937e-7\n",
       " 4.74124e-7\n",
       " 5.08565e-7\n",
       " 5.45412e-7\n",
       " 5.84824e-7\n",
       " 6.26973e-7\n",
       " 6.7204e-7 \n",
       " 7.20219e-7\n",
       " 7.71715e-7\n",
       " ⋮         \n",
       " 0.00455425\n",
       " 0.00448202\n",
       " 0.00441082\n",
       " 0.00434065\n",
       " 0.00427148\n",
       " 0.00420331\n",
       " 0.00413613\n",
       " 0.00406992\n",
       " 0.00400467\n",
       " 0.00394036\n",
       " 0.003877  \n",
       " 0.00381455"
      ]
     },
     "execution_count": 94,
     "metadata": {},
     "output_type": "execute_result"
    }
   ],
   "source": [
    "d = actualval.(x)"
   ]
  },
  {
   "cell_type": "code",
   "execution_count": 95,
   "metadata": {
    "collapsed": false
   },
   "outputs": [
    {
     "data": {
      "image/png": "[encoded data removed]",
      "text/plain": [
       "PyPlot.Figure(PyObject <matplotlib.figure.Figure object at 0x32c7dab10>)"
      ]
     },
     "metadata": {},
     "output_type": "display_data"
    },
    {
     "data": {
      "text/plain": [
       "1-element Array{Any,1}:\n",
       " PyObject <matplotlib.lines.Line2D object at 0x32cbabb90>"
      ]
     },
     "execution_count": 95,
     "metadata": {},
     "output_type": "execute_result"
    }
   ],
   "source": [
    "plot(x, d)"
   ]
  },
  {
   "cell_type": "code",
   "execution_count": 100,
   "metadata": {
    "collapsed": false
   },
   "outputs": [
    {
     "name": "stderr",
     "output_type": "stream",
     "text": [
      "WARNING: symbol is deprecated, use Symbol instead.\n",
      " [inlined code] from ./error.jl:26\n",
      " in depwarn(::String, ::Symbol) at ./deprecated.jl:64\n",
      " [inlined code] from ./strings/io.jl:51\n",
      " in symbol(::String, ::Vararg{String,N}) at ./deprecated.jl:30\n",
      " in helpcode(::String) at /Users/ryandwyer/.julia/v0.5/IJulia/src/execute_request.jl:134\n",
      " in execute_request_0x535c5df2(::ZMQ.Socket, ::IJulia.Msg) at /Users/ryandwyer/.julia/v0.5/IJulia/src/execute_request.jl:173\n",
      " [inlined code] from ./dict.jl:780\n",
      " in eventloop(::ZMQ.Socket) at /Users/ryandwyer/.julia/v0.5/IJulia/src/IJulia.jl:142\n",
      " in (::IJulia.##24#30)() at ./task.jl:308\n",
      "while loading /Users/ryandwyer/.julia/v0.5/IJulia/src/kernel.jl, in expression starting on line 31\n"
     ]
    },
    {
     "name": "stdout",
     "output_type": "stream",
     "text": [
      "search: conv conv2 convert deconv code_native @code_native conj cond const conj!\n",
      "\n"
     ]
    },
    {
     "data": {
      "text/latex": [
       "\\begin{verbatim}\n",
       "conv(u,v)\n",
       "\\end{verbatim}\n",
       "Convolution of two vectors. Uses FFT algorithm.\n"
      ],
      "text/markdown": [
       "```\n",
       "conv(u,v)\n",
       "```\n",
       "\n",
       "Convolution of two vectors. Uses FFT algorithm.\n"
      ],
      "text/plain": [
       "```\n",
       "conv(u,v)\n",
       "```\n",
       "\n",
       "Convolution of two vectors. Uses FFT algorithm.\n"
      ]
     },
     "execution_count": 100,
     "metadata": {},
     "output_type": "execute_result"
    },
    {
     "name": "stderr",
     "output_type": "stream",
     "text": [
      "WARNING: Base.ASCIIString is deprecated, use String instead.\n",
      "  likely near /Users/ryandwyer/.julia/v0.5/IJulia/src/kernel.jl:31\n",
      "WARNING: Base.ByteString is deprecated, use String instead.\n",
      "  likely near /Users/ryandwyer/.julia/v0.5/IJulia/src/kernel.jl:31\n",
      "WARNING: Base.ASCIIString is deprecated, use String instead.\n",
      "  likely near /Users/ryandwyer/.julia/v0.5/IJulia/src/kernel.jl:31\n",
      "WARNING: Base.ByteString is deprecated, use String instead.\n",
      "  likely near /Users/ryandwyer/.julia/v0.5/IJulia/src/kernel.jl:31\n",
      "WARNING: Base.ASCIIString is deprecated, use String instead.\n",
      "  likely near /Users/ryandwyer/.julia/v0.5/IJulia/src/kernel.jl:31\n",
      "WARNING: Base.ByteString is deprecated, use String instead.\n",
      "  likely near /Users/ryandwyer/.julia/v0.5/IJulia/src/kernel.jl:31\n"
     ]
    }
   ],
   "source": [
    "?conv"
   ]
  },
  {
   "cell_type": "code",
   "execution_count": 103,
   "metadata": {
    "collapsed": false
   },
   "outputs": [],
   "source": [
    "h = y = k1d.(x, 1.0);"
   ]
  },
  {
   "cell_type": "code",
   "execution_count": 104,
   "metadata": {
    "collapsed": false
   },
   "outputs": [
    {
     "data": {
      "text/plain": [
       "4001-element Array{Float64,1}:\n",
       "  2.15584e-14\n",
       "  7.18613e-15\n",
       "  1.43723e-14\n",
       "  2.15584e-14\n",
       "  1.43723e-14\n",
       "  1.43723e-14\n",
       "  0.0        \n",
       "  0.0        \n",
       "  0.0        \n",
       "  0.0        \n",
       "  0.0        \n",
       " -7.18613e-15\n",
       "  1.43723e-14\n",
       "  ⋮          \n",
       "  1.8818e-14 \n",
       "  1.01125e-14\n",
       "  2.05338e-14\n",
       "  3.13691e-15\n",
       "  3.00709e-15\n",
       "  1.50389e-14\n",
       "  2.58673e-14\n",
       "  2.08601e-14\n",
       " -7.07385e-15\n",
       "  1.02423e-14\n",
       "  1.81548e-14\n",
       "  1.48424e-15"
      ]
     },
     "execution_count": 104,
     "metadata": {},
     "output_type": "execute_result"
    }
   ],
   "source": [
    "y = conv(d, h)"
   ]
  },
  {
   "cell_type": "code",
   "execution_count": 112,
   "metadata": {
    "collapsed": false
   },
   "outputs": [
    {
     "data": {
      "text/plain": [
       "3000"
      ]
     },
     "execution_count": 112,
     "metadata": {},
     "output_type": "execute_result"
    }
   ],
   "source": [
    "Ni = round(Int, (length(h)-1) / 2)\n",
    "Nf = Ni + length(x)-1"
   ]
  },
  {
   "cell_type": "code",
   "execution_count": 114,
   "metadata": {
    "collapsed": false
   },
   "outputs": [
    {
     "data": {
      "text/plain": [
       "2001-element Array{Float64,1}:\n",
       "  3.04267\n",
       "  3.10693\n",
       "  3.1723 \n",
       "  3.23881\n",
       "  3.30646\n",
       "  3.37528\n",
       "  3.44527\n",
       "  3.51645\n",
       "  3.58883\n",
       "  3.66243\n",
       "  3.73725\n",
       "  3.81332\n",
       "  3.89064\n",
       "  ⋮      \n",
       " 43.6576 \n",
       " 43.3165 \n",
       " 42.9726 \n",
       " 42.6261 \n",
       " 42.2772 \n",
       " 41.9258 \n",
       " 41.5722 \n",
       " 41.2165 \n",
       " 40.8587 \n",
       " 40.499  \n",
       " 40.1375 \n",
       " 39.7744 "
      ]
     },
     "execution_count": 114,
     "metadata": {},
     "output_type": "execute_result"
    }
   ],
   "source": [
    "y_same = y[Ni:Nf]"
   ]
  },
  {
   "cell_type": "code",
   "execution_count": 120,
   "metadata": {
    "collapsed": false
   },
   "outputs": [
    {
     "data": {
      "image/png": "[encoded data removed]",
      "text/plain": [
       "PyPlot.Figure(PyObject <matplotlib.figure.Figure object at 0x32ddb3390>)"
      ]
     },
     "metadata": {},
     "output_type": "display_data"
    },
    {
     "data": {
      "text/plain": [
       "1-element Array{Any,1}:\n",
       " PyObject <matplotlib.lines.Line2D object at 0x32e1e6c50>"
      ]
     },
     "execution_count": 120,
     "metadata": {},
     "output_type": "execute_result"
    }
   ],
   "source": []
  },
  {
   "cell_type": "code",
   "execution_count": 124,
   "metadata": {
    "collapsed": false
   },
   "outputs": [
    {
     "data": {
      "text/plain": [
       "h2mat (generic function with 1 method)"
      ]
     },
     "execution_count": 124,
     "metadata": {},
     "output_type": "execute_result"
    }
   ],
   "source": [
    "function h2mat(h, M1, M2)\n",
    "    Hn = length(h)\n",
    "    H = zeros((M1, M2))\n",
    "    for i = 1:M1\n",
    "        if i < Hn\n",
    "            H[i, 1:i] = h[1:i]\n",
    "        elseif (i >= Hn) && (i < M2)\n",
    "            H[i, i-Hn+1: i] = h[1:end]\n",
    "        else\n",
    "            istart = i - M2 + 1\n",
    "            H[i, i-Hn+1:end] = h[istart:end]\n",
    "        end\n",
    "    end\n",
    "    \n",
    "    return H\n",
    "end"
   ]
  },
  {
   "cell_type": "code",
   "execution_count": 130,
   "metadata": {
    "collapsed": false
   },
   "outputs": [
    {
     "data": {
      "text/plain": [
       "4001×2001 Array{Float64,2}:\n",
       " 1.92875e-20  0.0          0.0         …  0.0          0.0        \n",
       " 1.92875e-20  2.12723e-20  0.0            0.0          0.0        \n",
       " 1.92875e-20  2.12723e-20  2.3459e-20     0.0          0.0        \n",
       " 1.92875e-20  2.12723e-20  2.3459e-20     0.0          0.0        \n",
       " 1.92875e-20  2.12723e-20  2.3459e-20     0.0          0.0        \n",
       " 1.92875e-20  2.12723e-20  2.3459e-20  …  0.0          0.0        \n",
       " 1.92875e-20  2.12723e-20  2.3459e-20     0.0          0.0        \n",
       " 1.92875e-20  2.12723e-20  2.3459e-20     0.0          0.0        \n",
       " 1.92875e-20  2.12723e-20  2.3459e-20     0.0          0.0        \n",
       " 1.92875e-20  2.12723e-20  2.3459e-20     0.0          0.0        \n",
       " 1.92875e-20  2.12723e-20  2.3459e-20  …  0.0          0.0        \n",
       " 1.92875e-20  2.12723e-20  2.3459e-20     0.0          0.0        \n",
       " 1.92875e-20  2.12723e-20  2.3459e-20     0.0          0.0        \n",
       " ⋮                                     ⋱               ⋮          \n",
       " 0.0          0.0          0.0            2.12723e-20  1.92875e-20\n",
       " 0.0          0.0          0.0         …  2.12723e-20  1.92875e-20\n",
       " 0.0          0.0          0.0            2.12723e-20  1.92875e-20\n",
       " 0.0          0.0          0.0            2.12723e-20  1.92875e-20\n",
       " 0.0          0.0          0.0            2.12723e-20  1.92875e-20\n",
       " 0.0          0.0          0.0            2.12723e-20  1.92875e-20\n",
       " 0.0          0.0          0.0         …  2.12723e-20  1.92875e-20\n",
       " 0.0          0.0          0.0            2.12723e-20  1.92875e-20\n",
       " 0.0          0.0          0.0            2.12723e-20  1.92875e-20\n",
       " 0.0          0.0          0.0            2.12723e-20  1.92875e-20\n",
       " 0.0          0.0          0.0            2.12723e-20  1.92875e-20\n",
       " 0.0          0.0          0.0         …  0.0          1.92875e-20"
      ]
     },
     "execution_count": 130,
     "metadata": {},
     "output_type": "execute_result"
    }
   ],
   "source": [
    "mat = h2mat(h, length(y), length(d))"
   ]
  },
  {
   "cell_type": "code",
   "execution_count": 136,
   "metadata": {
    "collapsed": false
   },
   "outputs": [
    {
     "name": "stderr",
     "output_type": "stream",
     "text": [
      "/Users/ryandwyer/anaconda/lib/python2.7/site-packages/matplotlib/axis.py:1015: UserWarning: Unable to find pixel distance along axis for interval padding of ticks; assuming no interval padding needed.\n",
      "  warnings.warn(\"Unable to find pixel distance along axis \"\n",
      "/Users/ryandwyer/anaconda/lib/python2.7/site-packages/matplotlib/axis.py:1025: UserWarning: Unable to find pixel distance along axis for interval padding of ticks; assuming no interval padding needed.\n",
      "  warnings.warn(\"Unable to find pixel distance along axis \"\n"
     ]
    },
    {
     "data": {
      "image/png": "[encoded data removed]",
      "text/plain": [
       "PyPlot.Figure(PyObject <matplotlib.figure.Figure object at 0x32de3ec10>)"
      ]
     },
     "metadata": {},
     "output_type": "display_data"
    },
    {
     "data": {
      "text/plain": [
       "1-element Array{Any,1}:\n",
       " PyObject <matplotlib.lines.Line2D object at 0x32d4e9e10>"
      ]
     },
     "execution_count": 136,
     "metadata": {},
     "output_type": "execute_result"
    }
   ],
   "source": [
    "loglog(d)"
   ]
  },
  {
   "cell_type": "code",
   "execution_count": 140,
   "metadata": {
    "collapsed": false
   },
   "outputs": [
    {
     "data": {
      "text/plain": [
       "533"
      ]
     },
     "execution_count": 140,
     "metadata": {},
     "output_type": "execute_result"
    }
   ],
   "source": [
    "indmax(cumsum(d) / sum(d) .> 0.99)"
   ]
  },
  {
   "cell_type": "code",
   "execution_count": 171,
   "metadata": {
    "collapsed": false
   },
   "outputs": [
    {
     "data": {
      "text/plain": [
       "4001×2001 Array{Float64,2}:\n",
       "  9.17266e-16  -1.43185e-13   1.01032e-13  …  -3.05312e-17  -1.27655e-17\n",
       "  9.17266e-16   2.15833e-15  -5.68319e-15     -1.24429e-16  -1.00679e-16\n",
       "  9.17266e-16  -4.15678e-15   1.89096e-14     -3.36379e-16  -2.98964e-16\n",
       "  9.17266e-16  -1.99824e-14   1.5187e-14       6.77409e-16   6.49612e-16\n",
       "  9.17266e-16   3.23624e-14  -2.4633e-14       1.6674e-16    1.71742e-16\n",
       "  9.17266e-16   7.82981e-15   7.95759e-15  …  -2.16665e-16  -1.86924e-16\n",
       "  9.17266e-16   2.90182e-14   6.07641e-15     -3.78083e-17  -1.95805e-17\n",
       "  9.17266e-16  -9.41309e-15  -3.03629e-15     -8.89401e-16  -8.1643e-16 \n",
       "  9.17266e-16  -5.79838e-14   1.67102e-14     -5.10162e-17  -3.18602e-17\n",
       "  9.17266e-16  -2.24715e-14   1.74076e-15     -1.12639e-16  -8.9655e-17 \n",
       "  9.17266e-16  -5.17623e-15  -1.3277e-14   …   2.66308e-16   2.65016e-16\n",
       "  9.17266e-16  -2.75374e-16  -1.52803e-14      3.18022e-16   3.13278e-16\n",
       "  9.17266e-16   6.18895e-14  -3.84558e-14     -4.70937e-16  -4.2488e-16 \n",
       "  ⋮                                        ⋱                 ⋮          \n",
       " -2.44386e-42  -6.61296e-23  -9.05351e-22     -1.69012e-16  -1.58926e-16\n",
       " -3.29585e-42  -4.72945e-23  -7.87472e-22  …   1.42199e-16   1.15727e-16\n",
       " -2.89228e-42  -3.28832e-23  -6.73791e-22      5.19995e-16   4.46434e-16\n",
       " -1.26677e-42  -2.18546e-23  -5.65823e-22      9.74374e-16   8.40931e-16\n",
       " -1.69277e-42  -1.34401e-23  -4.64798e-22      1.52912e-15   1.31201e-15\n",
       " -1.17709e-42  -7.07534e-24  -3.71659e-22      2.23816e-15   1.88347e-15\n",
       " -6.38992e-43  -2.34887e-24  -2.8709e-22   …   3.15526e-15   2.61045e-15\n",
       " -6.38992e-43   1.03323e-24  -2.11582e-22      4.41646e-15   3.57841e-15\n",
       " -5.0727e-43    3.26983e-24  -1.45514e-22      6.76582e-15   4.91212e-15\n",
       " -1.23314e-43   4.48112e-24  -8.92344e-23      1.1388e-14    7.21584e-15\n",
       " -1.17709e-43   4.69101e-24  -4.33496e-23      1.53304e-14   1.26809e-14\n",
       " -6.30584e-44   3.592e-24    -1.05963e-23  …  -1.79269e-14   2.27514e-14"
      ]
     },
     "execution_count": 171,
     "metadata": {},
     "output_type": "execute_result"
    }
   ],
   "source": [
    "u * diagm(d) * v' - mat"
   ]
  },
  {
   "cell_type": "code",
   "execution_count": 154,
   "metadata": {
    "collapsed": false
   },
   "outputs": [
    {
     "data": {
      "text/plain": [
       "515.7528591046735"
      ]
     },
     "execution_count": 154,
     "metadata": {},
     "output_type": "execute_result"
    }
   ],
   "source": [
    "vecnorm(mat)"
   ]
  },
  {
   "cell_type": "code",
   "execution_count": 157,
   "metadata": {
    "collapsed": false
   },
   "outputs": [
    {
     "data": {
      "text/plain": [
       "4001×2001 Array{Float64,2}:\n",
       "  8.73326e-16   1.22011e-16   5.46982e-16  …  -0.00694467   -0.000404812\n",
       " -2.88693e-15  -1.8057e-15   -7.40849e-16      0.0381865    -0.0188544  \n",
       "  1.0213e-15    5.70959e-16  -7.45952e-16     -0.0259158     0.0743509  \n",
       "  3.68637e-15   2.17313e-15   1.00112e-15      0.0102664    -0.0263002  \n",
       " -2.5289e-15   -1.49425e-15   1.06075e-16      0.00953357   -0.0238139  \n",
       " -9.82434e-16  -6.04236e-16  -1.08566e-16  …   0.170415     -0.0730921  \n",
       "  1.67995e-15   9.82173e-16   2.66391e-16     -0.0740612    -0.109801   \n",
       " -1.08075e-15  -6.71869e-16  -7.23611e-17      0.0180988    -0.0141311  \n",
       " -1.33049e-15  -7.8866e-16   -2.95662e-16      0.00313677    0.0210941  \n",
       "  2.79165e-16   1.51637e-16   5.63993e-17     -0.135412      0.105466   \n",
       "  1.00238e-15   6.12101e-16   2.33246e-16  …  -0.111557      0.0453102  \n",
       " -1.12488e-15  -6.66648e-16  -1.46225e-16     -0.0604842    -0.06818    \n",
       "  5.23678e-16   3.4981e-16    2.20546e-17     -0.0512043    -0.0804023  \n",
       "  ⋮                                        ⋱                 ⋮          \n",
       " -1.58025e-42   1.31907e-41  -3.20761e-41     -1.6718e-10    1.1994e-9  \n",
       " -1.27005e-42   1.06101e-41  -2.57797e-41  …  -1.35922e-10   9.72791e-10\n",
       " -1.01478e-42   8.48423e-42  -2.05981e-41     -1.09818e-10   7.84149e-10\n",
       " -8.04737e-43   6.73334e-42  -1.63347e-41     -8.80268e-11   6.27162e-10\n",
       " -6.31953e-43   5.29159e-42  -1.28275e-41     -6.98425e-11   4.96559e-10\n",
       " -4.89846e-43   4.10465e-42  -9.94296e-42     -5.4674e-11    3.87939e-10\n",
       " -3.72994e-43   3.12766e-42  -7.57107e-42  …  -4.20259e-11   2.9763e-10 \n",
       " -2.76927e-43   2.32367e-42  -5.6211e-42      -3.14832e-11   2.22567e-10\n",
       " -1.97965e-43   1.66217e-42  -4.01832e-42     -2.26988e-11   1.60196e-10\n",
       " -1.33076e-43   1.11803e-42  -2.70119e-42     -1.5382e-11    1.08386e-10\n",
       " -7.97617e-44   6.70501e-43  -1.61901e-42     -9.28981e-12   6.53612e-11\n",
       " -3.59673e-44   3.02518e-43  -7.30068e-43  …  -4.21907e-12   2.96434e-11"
      ]
     },
     "execution_count": 157,
     "metadata": {},
     "output_type": "execute_result"
    }
   ],
   "source": [
    "u"
   ]
  },
  {
   "cell_type": "code",
   "execution_count": 162,
   "metadata": {
    "collapsed": false
   },
   "outputs": [
    {
     "data": {
      "text/plain": [
       "4001×2001 Array{Float64,2}:\n",
       " 1.92875e-5  0.0         0.0        …  0.0        0.0         0.0       \n",
       " 1.92875e-5  2.12723e-5  0.0           0.0        0.0         0.0       \n",
       " 1.92875e-5  2.12723e-5  2.3459e-5     0.0        0.0         0.0       \n",
       " 1.92875e-5  2.12723e-5  2.3459e-5     0.0        0.0         0.0       \n",
       " 1.92875e-5  2.12723e-5  2.3459e-5     0.0        0.0         0.0       \n",
       " 1.92875e-5  2.12723e-5  2.3459e-5  …  0.0        0.0         0.0       \n",
       " 1.92875e-5  2.12723e-5  2.3459e-5     0.0        0.0         0.0       \n",
       " 1.92875e-5  2.12723e-5  2.3459e-5     0.0        0.0         0.0       \n",
       " 1.92875e-5  2.12723e-5  2.3459e-5     0.0        0.0         0.0       \n",
       " 1.92875e-5  2.12723e-5  2.3459e-5     0.0        0.0         0.0       \n",
       " 1.92875e-5  2.12723e-5  2.3459e-5  …  0.0        0.0         0.0       \n",
       " 1.92875e-5  2.12723e-5  2.3459e-5     0.0        0.0         0.0       \n",
       " 1.92875e-5  2.12723e-5  2.3459e-5     0.0        0.0         0.0       \n",
       " ⋮                                  ⋱                         ⋮         \n",
       " 0.0         0.0         0.0           2.3459e-5  2.12723e-5  1.92875e-5\n",
       " 0.0         0.0         0.0        …  2.3459e-5  2.12723e-5  1.92875e-5\n",
       " 0.0         0.0         0.0           2.3459e-5  2.12723e-5  1.92875e-5\n",
       " 0.0         0.0         0.0           2.3459e-5  2.12723e-5  1.92875e-5\n",
       " 0.0         0.0         0.0           2.3459e-5  2.12723e-5  1.92875e-5\n",
       " 0.0         0.0         0.0           2.3459e-5  2.12723e-5  1.92875e-5\n",
       " 0.0         0.0         0.0        …  2.3459e-5  2.12723e-5  1.92875e-5\n",
       " 0.0         0.0         0.0           2.3459e-5  2.12723e-5  1.92875e-5\n",
       " 0.0         0.0         0.0           2.3459e-5  2.12723e-5  1.92875e-5\n",
       " 0.0         0.0         0.0           2.3459e-5  2.12723e-5  1.92875e-5\n",
       " 0.0         0.0         0.0           0.0        2.12723e-5  1.92875e-5\n",
       " 0.0         0.0         0.0        …  0.0        0.0         1.92875e-5"
      ]
     },
     "execution_count": 162,
     "metadata": {},
     "output_type": "execute_result"
    }
   ],
   "source": [
    "mat_larger = mat*1e15"
   ]
  },
  {
   "cell_type": "code",
   "execution_count": 176,
   "metadata": {
    "collapsed": false
   },
   "outputs": [
    {
     "data": {
      "text/plain": [
       "-10.0:0.1:10.0"
      ]
     },
     "execution_count": 176,
     "metadata": {},
     "output_type": "execute_result"
    }
   ],
   "source": [
    "x10 = (-10:0.1:10)"
   ]
  },
  {
   "cell_type": "code",
   "execution_count": 200,
   "metadata": {
    "collapsed": false
   },
   "outputs": [
    {
     "data": {
      "text/plain": [
       "201-element Array{Float64,1}:\n",
       " 1.92875e-20\n",
       " 5.11292e-20\n",
       " 1.34162e-19\n",
       " 3.48465e-19\n",
       " 8.95886e-19\n",
       " 2.27986e-18\n",
       " 5.74282e-18\n",
       " 1.43186e-17\n",
       " 3.53373e-17\n",
       " 8.63217e-17\n",
       " 2.08717e-16\n",
       " 4.99513e-16\n",
       " 1.18327e-15\n",
       " ⋮          \n",
       " 4.99513e-16\n",
       " 2.08717e-16\n",
       " 8.63217e-17\n",
       " 3.53373e-17\n",
       " 1.43186e-17\n",
       " 5.74282e-18\n",
       " 2.27986e-18\n",
       " 8.95886e-19\n",
       " 3.48465e-19\n",
       " 1.34162e-19\n",
       " 5.11292e-20\n",
       " 1.92875e-20"
      ]
     },
     "execution_count": 200,
     "metadata": {},
     "output_type": "execute_result"
    }
   ],
   "source": [
    "h10 = k1d.(x10, 1.0)"
   ]
  },
  {
   "cell_type": "code",
   "execution_count": 201,
   "metadata": {
    "collapsed": false
   },
   "outputs": [],
   "source": [
    "d10 = actualval.(x10);"
   ]
  },
  {
   "cell_type": "code",
   "execution_count": 202,
   "metadata": {
    "collapsed": false
   },
   "outputs": [],
   "source": [
    "y10 = conv(h10, d10);"
   ]
  },
  {
   "cell_type": "code",
   "execution_count": 203,
   "metadata": {
    "collapsed": false
   },
   "outputs": [],
   "source": [
    "H10 = h2mat(h10, length(y10), length(d10));"
   ]
  },
  {
   "cell_type": "code",
   "execution_count": 205,
   "metadata": {
    "collapsed": false
   },
   "outputs": [],
   "source": [
    "u, d, v = svd(H10);"
   ]
  },
  {
   "cell_type": "code",
   "execution_count": 221,
   "metadata": {
    "collapsed": false
   },
   "outputs": [
    {
     "data": {
      "text/plain": [
       "201-element Array{Any,1}:\n",
       " 49.3578  \n",
       " 13.0447  \n",
       "  4.35607 \n",
       "  3.80035 \n",
       "  2.4341  \n",
       "  2.26356 \n",
       "  1.7034  \n",
       "  1.6217  \n",
       "  1.31723 \n",
       "  1.26963 \n",
       "  1.0791  \n",
       "  1.04813 \n",
       "  0.918401\n",
       "  ⋮       \n",
       "  0.0     \n",
       "  0.0     \n",
       "  0.0     \n",
       "  0.0     \n",
       "  0.0     \n",
       "  0.0     \n",
       "  0.0     \n",
       "  0.0     \n",
       "  0.0     \n",
       "  0.0     \n",
       "  0.0     \n",
       "  0.0     "
      ]
     },
     "execution_count": 221,
     "metadata": {},
     "output_type": "execute_result"
    }
   ],
   "source": [
    "d2 = [x > eps(Float64)*100 ? x : 0.0 for x in d]"
   ]
  },
  {
   "cell_type": "code",
   "execution_count": 223,
   "metadata": {
    "collapsed": false
   },
   "outputs": [
    {
     "data": {
      "text/plain": [
       "401×201 Array{Float64,2}:\n",
       " -2.96658e-16  -5.1176e-16    1.86126e-15  …  -1.69228e-16  -8.14333e-17\n",
       " -2.96658e-16  -8.67973e-16  -7.52928e-16     -3.92279e-16  -2.0717e-16 \n",
       " -2.96658e-16   1.71402e-15  -2.91512e-15     -4.78406e-16  -2.55739e-16\n",
       " -2.96658e-16  -1.7284e-15    5.72784e-16      6.12278e-16   3.59063e-16\n",
       " -2.96658e-16   1.47228e-15  -1.1348e-15      -4.10386e-16  -2.17409e-16\n",
       " -2.96658e-16  -1.59354e-16  -1.66177e-16  …   6.04783e-16   3.54815e-16\n",
       " -2.96658e-16   3.44279e-16   5.46999e-16     -3.10424e-16  -1.61047e-16\n",
       " -2.96658e-16   1.42724e-15  -1.22842e-15      1.73845e-15   9.93876e-16\n",
       " -2.96658e-16   1.79748e-15  -1.47882e-15     -4.63657e-16  -2.47444e-16\n",
       " -2.96658e-16  -1.2727e-15    6.68731e-16     -1.78646e-16  -8.67671e-17\n",
       " -2.96658e-16  -1.35964e-15   1.09924e-15  …  -6.54791e-17  -2.2981e-17 \n",
       " -2.96658e-16  -1.08155e-15   8.22571e-16     -3.6921e-16   -1.94214e-16\n",
       " -2.96658e-16   1.19222e-15  -3.64548e-16     -1.00193e-16  -4.25556e-17\n",
       "  ⋮                                        ⋱                 ⋮          \n",
       " -6.74075e-34   1.81178e-17   8.93651e-17      8.17725e-19   1.43415e-17\n",
       " -1.32408e-34   5.6147e-18    2.7926e-17   …   1.01955e-18   1.44424e-17\n",
       " -3.31019e-35  -2.33526e-18   3.93492e-18      4.10076e-18   1.5717e-17 \n",
       " -7.14701e-36  -9.25597e-19   2.48899e-19     -2.01381e-17   4.94336e-18\n",
       " -1.12847e-36  -2.41886e-19   1.56093e-19      4.1086e-17    3.15757e-17\n",
       " -1.99834e-37  -5.22207e-20   1.56336e-20      7.63707e-17   4.74028e-17\n",
       " -3.82036e-38  -7.59067e-21  -4.70814e-21  …   1.54643e-16   8.42351e-17\n",
       " -6.24481e-39   2.16706e-21  -9.10067e-21      1.54918e-16   8.85692e-17\n",
       " -1.23978e-39   2.75228e-21  -6.97296e-21      2.96548e-17   3.81614e-17\n",
       " -1.83671e-40   1.588e-21    -3.71497e-21     -4.07614e-16  -1.55968e-16\n",
       " -2.86986e-41   5.17041e-22  -1.18821e-21      1.36552e-15   2.77679e-16\n",
       " -3.40796e-42   7.93573e-23  -1.82049e-22  …  -1.22684e-15   2.61155e-15"
      ]
     },
     "execution_count": 223,
     "metadata": {},
     "output_type": "execute_result"
    }
   ],
   "source": [
    "u * diagm(d) * v'"
   ]
  },
  {
   "cell_type": "code",
   "execution_count": 226,
   "metadata": {
    "collapsed": false
   },
   "outputs": [
    {
     "data": {
      "text/plain": [
       "100×96 Array{Float64,2}:\n",
       " 0.1  0.0  0.0  0.0  0.0  0.0  0.0  0.0  …  0.0  0.0  0.0  0.0  0.0  0.0  0.0\n",
       " 0.1  0.3  0.0  0.0  0.0  0.0  0.0  0.0     0.0  0.0  0.0  0.0  0.0  0.0  0.0\n",
       " 0.1  0.3  0.5  0.0  0.0  0.0  0.0  0.0     0.0  0.0  0.0  0.0  0.0  0.0  0.0\n",
       " 0.1  0.3  0.5  0.3  0.0  0.0  0.0  0.0     0.0  0.0  0.0  0.0  0.0  0.0  0.0\n",
       " 0.1  0.3  0.5  0.3  0.1  0.0  0.0  0.0     0.0  0.0  0.0  0.0  0.0  0.0  0.0\n",
       " 0.0  0.1  0.3  0.5  0.3  0.1  0.0  0.0  …  0.0  0.0  0.0  0.0  0.0  0.0  0.0\n",
       " 0.0  0.0  0.1  0.3  0.5  0.3  0.1  0.0     0.0  0.0  0.0  0.0  0.0  0.0  0.0\n",
       " 0.0  0.0  0.0  0.1  0.3  0.5  0.3  0.1     0.0  0.0  0.0  0.0  0.0  0.0  0.0\n",
       " 0.0  0.0  0.0  0.0  0.1  0.3  0.5  0.3     0.0  0.0  0.0  0.0  0.0  0.0  0.0\n",
       " 0.0  0.0  0.0  0.0  0.0  0.1  0.3  0.5     0.0  0.0  0.0  0.0  0.0  0.0  0.0\n",
       " 0.0  0.0  0.0  0.0  0.0  0.0  0.1  0.3  …  0.0  0.0  0.0  0.0  0.0  0.0  0.0\n",
       " 0.0  0.0  0.0  0.0  0.0  0.0  0.0  0.1     0.0  0.0  0.0  0.0  0.0  0.0  0.0\n",
       " 0.0  0.0  0.0  0.0  0.0  0.0  0.0  0.0     0.0  0.0  0.0  0.0  0.0  0.0  0.0\n",
       " ⋮                        ⋮              ⋱       ⋮                        ⋮  \n",
       " 0.0  0.0  0.0  0.0  0.0  0.0  0.0  0.0     0.0  0.0  0.0  0.0  0.0  0.0  0.0\n",
       " 0.0  0.0  0.0  0.0  0.0  0.0  0.0  0.0     0.1  0.0  0.0  0.0  0.0  0.0  0.0\n",
       " 0.0  0.0  0.0  0.0  0.0  0.0  0.0  0.0  …  0.3  0.1  0.0  0.0  0.0  0.0  0.0\n",
       " 0.0  0.0  0.0  0.0  0.0  0.0  0.0  0.0     0.5  0.3  0.1  0.0  0.0  0.0  0.0\n",
       " 0.0  0.0  0.0  0.0  0.0  0.0  0.0  0.0     0.3  0.5  0.3  0.1  0.0  0.0  0.0\n",
       " 0.0  0.0  0.0  0.0  0.0  0.0  0.0  0.0     0.1  0.3  0.5  0.3  0.1  0.0  0.0\n",
       " 0.0  0.0  0.0  0.0  0.0  0.0  0.0  0.0     0.0  0.1  0.3  0.5  0.3  0.1  0.0\n",
       " 0.0  0.0  0.0  0.0  0.0  0.0  0.0  0.0  …  0.0  0.0  0.1  0.3  0.5  0.3  0.1\n",
       " 0.0  0.0  0.0  0.0  0.0  0.0  0.0  0.0     0.0  0.0  0.0  0.3  0.5  0.3  0.1\n",
       " 0.0  0.0  0.0  0.0  0.0  0.0  0.0  0.0     0.0  0.0  0.0  0.0  0.5  0.3  0.1\n",
       " 0.0  0.0  0.0  0.0  0.0  0.0  0.0  0.0     0.0  0.0  0.0  0.0  0.0  0.3  0.1\n",
       " 0.0  0.0  0.0  0.0  0.0  0.0  0.0  0.0     0.0  0.0  0.0  0.0  0.0  0.0  0.1"
      ]
     },
     "execution_count": 226,
     "metadata": {},
     "output_type": "execute_result"
    }
   ],
   "source": [
    "Ht = h2mat([0.1, 0.3, 0.5, 0.3, 0.1], 100, 96)"
   ]
  },
  {
   "cell_type": "code",
   "execution_count": 228,
   "metadata": {
    "collapsed": false
   },
   "outputs": [],
   "source": [
    "ut, dt, vt = svd(Ht);"
   ]
  },
  {
   "cell_type": "code",
   "execution_count": 232,
   "metadata": {
    "collapsed": false
   },
   "outputs": [
    {
     "data": {
      "text/plain": [
       "100×96 Array{Float64,2}:\n",
       "  0.1          -1.46871e-17  -9.92783e-17  …  -8.55121e-17  -1.93006e-18\n",
       "  0.1           0.3          -3.53954e-17     -3.68187e-17  -1.05582e-17\n",
       "  0.1           0.3           0.5             -6.16134e-17  -1.04124e-17\n",
       "  0.1           0.3           0.5             -5.26196e-17  -3.40397e-17\n",
       "  0.1           0.3           0.5             -2.0487e-17   -2.95244e-17\n",
       "  1.53686e-16   0.1           0.3          …   6.42018e-17   2.70322e-17\n",
       "  1.30416e-16   6.30561e-17   0.1             -9.62653e-17  -3.38421e-17\n",
       "  1.67551e-16   3.40184e-16   6.98478e-16     -4.17787e-17  -4.51299e-17\n",
       "  1.70839e-16   4.07103e-16   6.6836e-16      -1.06685e-16  -3.41388e-17\n",
       "  1.25704e-16   4.99864e-16   4.19249e-16     -1.33555e-16  -5.69844e-17\n",
       "  7.50207e-17   4.58782e-16   2.24611e-16  …   1.43321e-17   1.7358e-17 \n",
       " -8.81973e-19   2.37875e-16   2.49339e-17     -1.04253e-16  -1.0467e-17 \n",
       "  3.48935e-18  -3.78221e-17  -8.58786e-17      1.43682e-17   3.45928e-18\n",
       "  ⋮                                        ⋱                 ⋮          \n",
       " -5.33504e-18  -9.74046e-17  -5.85645e-17      3.83657e-17  -1.61593e-17\n",
       " -4.88844e-18  -9.34032e-17  -6.34603e-17      2.09e-16      8.5672e-17 \n",
       " -6.01182e-18  -5.14429e-17  -1.49558e-17  …   1.07726e-16   2.32021e-17\n",
       " -2.44746e-17  -8.1701e-17   -1.11941e-16      8.30905e-17   2.12402e-17\n",
       "  1.08611e-18  -8.4766e-17    3.35355e-17      4.71424e-17   4.36042e-17\n",
       "  1.47801e-17  -9.34128e-17   1.60517e-16      7.09732e-17  -1.11958e-17\n",
       " -4.3711e-18   -1.54951e-16   7.84049e-17      0.1          -9.90661e-18\n",
       "  5.27596e-19  -9.4451e-17    4.18934e-17  …   0.3           0.1        \n",
       " -2.92989e-18  -8.82566e-17   2.15985e-17      0.3           0.1        \n",
       "  3.83444e-18  -6.43102e-17  -4.34075e-17      0.3           0.1        \n",
       "  1.10682e-17   5.88436e-18  -2.36046e-17      0.3           0.1        \n",
       " -8.2643e-18   -2.23142e-18  -1.36126e-17      4.07441e-17   0.1        "
      ]
     },
     "execution_count": 232,
     "metadata": {},
     "output_type": "execute_result"
    }
   ],
   "source": [
    "ut * diagm(dt) * vt' "
   ]
  },
  {
   "cell_type": "code",
   "execution_count": 233,
   "metadata": {
    "collapsed": false
   },
   "outputs": [
    {
     "data": {
      "image/png": "[encoded data removed]",
      "text/plain": [
       "PyPlot.Figure(PyObject <matplotlib.figure.Figure object at 0x39bf4ec10>)"
      ]
     },
     "metadata": {},
     "output_type": "display_data"
    },
    {
     "data": {
      "text/plain": [
       "1-element Array{Any,1}:\n",
       " PyObject <matplotlib.lines.Line2D object at 0x33bcc4890>"
      ]
     },
     "execution_count": 233,
     "metadata": {},
     "output_type": "execute_result"
    }
   ],
   "source": [
    "plot(dt)"
   ]
  },
  {
   "cell_type": "code",
   "execution_count": 236,
   "metadata": {
    "collapsed": false
   },
   "outputs": [
    {
     "data": {
      "text/plain": [
       "96-element Array{Float64,1}:\n",
       " 0.0273545\n",
       " 0.0547089\n",
       " 0.081761 \n",
       " 0.108746 \n",
       " 0.135624 \n",
       " 0.162358 \n",
       " 0.188915 \n",
       " 0.215262 \n",
       " 0.241366 \n",
       " 0.267198 \n",
       " 0.292728 \n",
       " 0.317927 \n",
       " 0.342767 \n",
       " ⋮        \n",
       " 0.982194 \n",
       " 0.983905 \n",
       " 0.985574 \n",
       " 0.987241 \n",
       " 0.988874 \n",
       " 0.990504 \n",
       " 0.992107 \n",
       " 0.993707 \n",
       " 0.995288 \n",
       " 0.996867 \n",
       " 0.998434 \n",
       " 1.0      "
      ]
     },
     "execution_count": 236,
     "metadata": {},
     "output_type": "execute_result"
    }
   ],
   "source": [
    "cumsum(dt) / sum(dt)"
   ]
  },
  {
   "cell_type": "code",
   "execution_count": 239,
   "metadata": {
    "collapsed": false
   },
   "outputs": [],
   "source": [
    "Nmax = 96 - 7;"
   ]
  },
  {
   "cell_type": "code",
   "execution_count": 243,
   "metadata": {
    "collapsed": false
   },
   "outputs": [
    {
     "data": {
      "text/plain": [
       "100×96 Array{Float64,2}:\n",
       "  0.0999971    1.21966e-6  -1.45939e-6  …  -3.46685e-7   9.75867e-7\n",
       "  0.100001     0.299998     8.68805e-7      6.01263e-7  -6.41894e-8\n",
       "  0.0999935    0.300002     0.499997       -4.97855e-7   2.21579e-6\n",
       "  0.1          0.300006     0.499998       -2.23178e-6  -1.09489e-6\n",
       "  0.100007     0.299993     0.500005        2.26148e-6  -1.44381e-6\n",
       " -2.79992e-6   0.100001     0.299999    …  -2.03047e-7   9.47693e-7\n",
       "  5.63965e-6  -8.14678e-6   0.100005        2.81386e-6  -9.52073e-7\n",
       " -2.22493e-5   2.37679e-5  -1.63137e-5     -7.87965e-6   5.09006e-6\n",
       "  4.42246e-5  -3.40746e-5   2.78544e-5      1.07235e-5  -1.22199e-5\n",
       " -5.32634e-5   2.61714e-5  -2.83735e-5     -7.52104e-6   1.7222e-5 \n",
       "  3.43149e-5   2.20231e-6   1.16239e-5  …  -1.74696e-6  -1.46201e-5\n",
       "  1.18892e-5  -3.89245e-5   1.79131e-5      1.26967e-5   2.79144e-6\n",
       " -6.55284e-5   6.32033e-5  -4.58034e-5     -1.89653e-5   1.40192e-5\n",
       "  ⋮                                     ⋱                ⋮         \n",
       "  2.79144e-6   1.26967e-5  -2.77447e-6     -3.89245e-5   1.18892e-5\n",
       " -1.46201e-5  -1.74696e-6  -4.75826e-6      2.20231e-6   3.43149e-5\n",
       "  1.7222e-5   -7.52104e-6   8.46411e-6  …   2.61714e-5  -5.32634e-5\n",
       " -1.22199e-5   1.07235e-5  -7.61742e-6     -3.40746e-5   4.42246e-5\n",
       "  5.09006e-6  -7.87965e-6   4.19563e-6      2.37679e-5  -2.22493e-5\n",
       " -9.52073e-7   2.81386e-6  -1.18679e-6     -8.14678e-6   5.63965e-6\n",
       "  9.47693e-7  -2.03047e-7   4.02429e-7      0.100001    -2.79992e-6\n",
       " -1.44381e-6   2.26148e-6  -1.19703e-6  …   0.299993     0.100007  \n",
       " -1.09489e-6  -2.23178e-6   2.73733e-7      0.300006     0.1       \n",
       "  2.21579e-6  -4.97855e-7   9.47282e-7      0.300002     0.0999935 \n",
       " -6.41894e-8   6.01263e-7  -2.03475e-7      0.299998     0.100001  \n",
       "  9.75867e-7  -3.46685e-7   4.55996e-7      1.21966e-6   0.0999971 "
      ]
     },
     "execution_count": 243,
     "metadata": {},
     "output_type": "execute_result"
    }
   ],
   "source": [
    "out = ut[1:end, 1:Nmax] * Diagonal(dt[1:Nmax]) * vt'[1:Nmax, 1:end]"
   ]
  },
  {
   "cell_type": "code",
   "execution_count": null,
   "metadata": {
    "collapsed": true
   },
   "outputs": [],
   "source": []
  }
 ],
 "metadata": {
  "anaconda-cloud": {},
  "kernelspec": {
   "display_name": "Julia 0.5.1-pre",
   "language": "julia",
   "name": "julia-0.5"
  },
  "language_info": {
   "file_extension": ".jl",
   "mimetype": "application/julia",
   "name": "julia",
   "version": "0.5.1"
  }
 },
 "nbformat": 4,
 "nbformat_minor": 0
}
