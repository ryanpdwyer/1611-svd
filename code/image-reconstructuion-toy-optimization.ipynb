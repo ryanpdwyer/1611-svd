{
 "cells": [
  {
   "cell_type": "code",
   "execution_count": 539,
   "metadata": {
    "collapsed": true
   },
   "outputs": [],
   "source": [
    "%matplotlib inline\n",
    "from __future__ import division\n",
    "import numpy as np\n",
    "import matplotlib.pyplot as plt\n",
    "from scipy import linalg\n",
    "from scipy import signal\n",
    "import copy\n",
    "\n",
    "def kern2mat(H, size):\n",
    "    N = H.size\n",
    "    half = int((N - 1) / 2)\n",
    "    Nout, Mout = size\n",
    "    if Nout == Mout:\n",
    "        return linalg.toeplitz(np.r_[H[half:], np.zeros(Nout - half)], np.r_[H[half:], np.zeros(Mout-half)])\n",
    "    else:\n",
    "        return linalg.toeplitz(np.r_[H, np.zeros(Nout - N)], np.r_[H[-1], np.zeros(Mout-1)])\n",
    "\n",
    "def mult_diag(d, mtx, left=True):\n",
    "    \"\"\"Multiply a full matrix by a diagonal matrix.\n",
    "    This function should always be faster than dot.\n",
    "\n",
    "    Input:\n",
    "      d -- 1D (N,) array (contains the diagonal elements)\n",
    "      mtx -- 2D (N,N) array\n",
    "\n",
    "    Output:\n",
    "      mult_diag(d, mts, left=True) == dot(diag(d), mtx)\n",
    "      mult_diag(d, mts, left=False) == dot(mtx, diag(d))\n",
    "    \"\"\"\n",
    "    if left:\n",
    "        return (d*mtx.T).T\n",
    "    else:\n",
    "        return d*mtx"
   ]
  },
  {
   "cell_type": "markdown",
   "metadata": {},
   "source": [
    "# Image reconstruction toy optimization\n",
    "\n",
    "This is an example of a more realistic problem with a larger number of parameters and constraints."
   ]
  },
  {
   "cell_type": "markdown",
   "metadata": {},
   "source": [
    "Consider measuring $y$, which is the convolution of the quantity we wish to measure $x$ with an impulse response function $H$, and corrupted by additive Gaussian noise with standard deviation $\\sigma$. We can write the model as,\n",
    "\n",
    "$$y \\sim \\mathcal{N}(H \\ast x, \\sigma)$$\n",
    "\n",
    "Let's consider the maximum likelihood estimate of $x$ given $y$.\n",
    "We can write this as a linear least squares problem,\n",
    "\n",
    "$$\\begin{align}\n",
    "r& = y - A x \\\\\n",
    "\\end{align}$$\n",
    "\n",
    "with the objective,\n",
    "\n",
    "$$\\min \\frac{1}{2 \\sigma ^2} \\lVert r \\rVert ^2 $$\n",
    "\n",
    "**What can we say about this problem?**\n",
    "- Linear least squares\n",
    "- Convex (local minimum = global minimum)\n",
    "- Potentially under-determined (for $N$ measured data points, convolution kernel of size $M$, it is natural to model $M + N - 1$ unknowns)\n",
    "\n",
    "\n",
    "\n",
    "### Additional information\n",
    "$x$ constrained to be positive.\n",
    "\n",
    "One possible way to constrain $x$ to be positive is to introduce $\\hat{x}$ defined as $x = e^\\hat{x}$, and optimize with respect to $\\hat{x}$.\n",
    "\n",
    "$$ r = y - A e^{\\hat{x}} $$\n",
    "\n",
    "\n",
    "**What can we say about this problem?**\n",
    "- Still convex!\n",
    "- Potentially under-determined\n",
    "\n",
    "### Additional information\n",
    "Add an exponential prior on $x$ (equal for each x-coordinate to be estimated), we have,\n",
    "\n",
    "$$ f(\\hat{x}) = \\frac{1}{2 \\sigma^2}r^T r + (\\hat{x} - \\frac{e^{\\hat{x}}}{\\mu_x})$$\n",
    "\n",
    "Then we have,\n",
    "\n",
    "$$\\begin{align}\n",
    "J& = \\operatorname{diag} (e^\\hat{x}) \\, A &\\\\\n",
    "\\nabla f&  = J^T r + I - \\frac{e^{\\hat{x}}}{\\mu_x}\n",
    "\\end{align}$$\n",
    "\n",
    "- Not underdetermined\n",
    "- Still convex! (Checked using `Convex.jl`)\n",
    "- Still use residuals to calculate *most* of $\\nabla f$"
   ]
  },
  {
   "cell_type": "markdown",
   "metadata": {},
   "source": [
    "# Example"
   ]
  },
  {
   "cell_type": "code",
   "execution_count": 701,
   "metadata": {
    "collapsed": true
   },
   "outputs": [],
   "source": [
    "mu_x = 0.5"
   ]
  },
  {
   "cell_type": "code",
   "execution_count": 702,
   "metadata": {
    "collapsed": false
   },
   "outputs": [],
   "source": [
    "h = np.array([0.25, 0.5, 0.25])\n",
    "M = h.size\n",
    "Nout = 10\n",
    "Nin = Nout +h -1\n",
    "A = kern2mat(h, (14, 12))\n",
    "A = A[2:-2]"
   ]
  },
  {
   "cell_type": "code",
   "execution_count": 703,
   "metadata": {
    "collapsed": false
   },
   "outputs": [],
   "source": [
    "x_mid = np.array([0.1, 0.2, 0.6, 0.5, 0.3, 0.03, 0.15, 0.3, 0.6, 0.3])\n",
    "\n",
    "x_exact = np.r_[[0.1], x_mid, [0.2]]\n",
    "x_exact = x_exact.reshape((-1, 1))\n",
    "\n",
    "\n",
    "x_0 = np.exp(xh_0)\n",
    "\n",
    "def J(A, x):\n",
    "    return mult_diag(A, np.squeeze(x), False)"
   ]
  },
  {
   "cell_type": "code",
   "execution_count": 704,
   "metadata": {
    "collapsed": false
   },
   "outputs": [],
   "source": [
    "r0 = y_exact - np.dot(A,x_0)\n",
    "J0 = J(A, x_0)"
   ]
  },
  {
   "cell_type": "code",
   "execution_count": 710,
   "metadata": {
    "collapsed": false
   },
   "outputs": [],
   "source": [
    "def makef(A, h, y, mu_x, w):\n",
    "    def ffgrad(xhat):\n",
    "        x = np.exp(xhat)\n",
    "        r = signal.convolve(x, h, 'valid') - y.flatten()\n",
    "        grad_f = (np.dot(A.T, r) * x + (1 - x/mu_x) / 2)\n",
    "        f = (w*sum(r**2)/2 - 0.5*sum(xhat) + 0.5*sum(x/mu_x))\n",
    "        return f, grad_f\n",
    "    def f(xhat):\n",
    "        x = np.exp(xhat)\n",
    "        r = signal.convolve(x, h, 'valid') - y.flatten()\n",
    "        return w*sum(r**2)/2 - 0.5*sum(xhat) + 0.5*sum(x/mu_x)\n",
    "    def fgrad(xhat):\n",
    "        x = np.exp(xhat)\n",
    "        r = signal.convolve(x, h, 'valid') - y.flatten()\n",
    "        return w * (np.dot(A.T, r) * x) + (x/mu_x - 1.0) / 2.0\n",
    "    return f, fgrad"
   ]
  },
  {
   "cell_type": "code",
   "execution_count": 718,
   "metadata": {
    "collapsed": true
   },
   "outputs": [],
   "source": [
    "np.random.seed(12389384)\n",
    "sigma2fit = 0.001\n",
    "sigma2 = 0.001\n",
    "yn = y_exact.flatten() + np.random.randn(y_exact.size)*sigma2**0.5 \n",
    "mu_x = 0.28\n",
    "xh_0 = np.zeros_like(x_exact) + np.log(mu_x)\n",
    "\n",
    "f, fgrad = makef(A, h, yn, mu_x, 1.0/sigma2fit)"
   ]
  },
  {
   "cell_type": "code",
   "execution_count": 719,
   "metadata": {
    "collapsed": false
   },
   "outputs": [
    {
     "name": "stdout",
     "output_type": "stream",
     "text": [
      "Optimization terminated successfully.\n",
      "         Current function value: 16.347943\n",
      "         Iterations: 16\n",
      "         Function evaluations: 2325\n"
     ]
    }
   ],
   "source": [
    "out = optimize.fmin_powell(f, xh_0, full_output=True)"
   ]
  },
  {
   "cell_type": "code",
   "execution_count": null,
   "metadata": {
    "collapsed": true
   },
   "outputs": [],
   "source": []
  },
  {
   "cell_type": "code",
   "execution_count": 720,
   "metadata": {
    "collapsed": false
   },
   "outputs": [
    {
     "name": "stdout",
     "output_type": "stream",
     "text": [
      "Optimization terminated successfully.\n",
      "         Current function value: 16.329003\n",
      "         Iterations: 39\n",
      "         Function evaluations: 49\n",
      "         Gradient evaluations: 49\n"
     ]
    }
   ],
   "source": [
    "out = optimize.fmin_bfgs(f, xh_0, fprime=fgrad, full_output=True, gtol=1e-7)"
   ]
  },
  {
   "cell_type": "code",
   "execution_count": 721,
   "metadata": {
    "collapsed": false
   },
   "outputs": [],
   "source": [
    "xhat_opt = out[0]\n",
    "x_opt = np.exp(xhat_opt)"
   ]
  },
  {
   "cell_type": "code",
   "execution_count": 722,
   "metadata": {
    "collapsed": false
   },
   "outputs": [
    {
     "data": {
      "text/plain": [
       "[<matplotlib.lines.Line2D at 0x11fc01a50>]"
      ]
     },
     "execution_count": 722,
     "metadata": {},
     "output_type": "execute_result"
    },
    {
     "data": {
      "image/png": "[encoded data removed]",
      "text/plain": [
       "<matplotlib.figure.Figure at 0x11ff352d0>"
      ]
     },
     "metadata": {},
     "output_type": "display_data"
    }
   ],
   "source": [
    "plt.plot(signal.convolve(x_opt, h, 'valid'))\n",
    "plt.plot(y_exact)"
   ]
  },
  {
   "cell_type": "code",
   "execution_count": 723,
   "metadata": {
    "collapsed": false
   },
   "outputs": [
    {
     "data": {
      "text/plain": [
       "[<matplotlib.lines.Line2D at 0x120a2cc10>]"
      ]
     },
     "execution_count": 723,
     "metadata": {},
     "output_type": "execute_result"
    },
    {
     "data": {
      "image/png": "[encoded data removed]",
      "text/plain": [
       "<matplotlib.figure.Figure at 0x120a2cb90>"
      ]
     },
     "metadata": {},
     "output_type": "display_data"
    }
   ],
   "source": [
    "plt.plot(x_opt[1:-1])\n",
    "plt.plot(x_exact[1:-1])"
   ]
  },
  {
   "cell_type": "code",
   "execution_count": 700,
   "metadata": {
    "collapsed": false
   },
   "outputs": [
    {
     "data": {
      "text/plain": [
       "[<matplotlib.lines.Line2D at 0x11fbcc0d0>]"
      ]
     },
     "execution_count": 700,
     "metadata": {},
     "output_type": "execute_result"
    },
    {
     "data": {
      "image/png": "[encoded data removed]",
      "text/plain": [
       "<matplotlib.figure.Figure at 0x11fbcc150>"
      ]
     },
     "metadata": {},
     "output_type": "display_data"
    }
   ],
   "source": [
    "plt.plot(x_opt)\n",
    "plt.plot(x_exact)"
   ]
  },
  {
   "cell_type": "code",
   "execution_count": null,
   "metadata": {
    "collapsed": true
   },
   "outputs": [],
   "source": []
  }
 ],
 "metadata": {
  "kernelspec": {
   "display_name": "Python [default]",
   "language": "python",
   "name": "python2"
  },
  "language_info": {
   "codemirror_mode": {
    "name": "ipython",
    "version": 2
   },
   "file_extension": ".py",
   "mimetype": "text/x-python",
   "name": "python",
   "nbconvert_exporter": "python",
   "pygments_lexer": "ipython2",
   "version": "2.7.12"
  }
 },
 "nbformat": 4,
 "nbformat_minor": 0
}
